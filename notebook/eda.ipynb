{
 "cells": [
  {
   "cell_type": "code",
   "execution_count": 1,
   "id": "22bd8fae",
   "metadata": {},
   "outputs": [],
   "source": [
    "import pandas as pd\n",
    "import numpy as np\n",
    "import seaborn as sns\n",
    "import matplotlib.pyplot as plt"
   ]
  },
  {
   "cell_type": "code",
   "execution_count": 2,
   "id": "78a4a684",
   "metadata": {},
   "outputs": [
    {
     "data": {
      "text/html": [
       "<div>\n",
       "<style scoped>\n",
       "    .dataframe tbody tr th:only-of-type {\n",
       "        vertical-align: middle;\n",
       "    }\n",
       "\n",
       "    .dataframe tbody tr th {\n",
       "        vertical-align: top;\n",
       "    }\n",
       "\n",
       "    .dataframe thead th {\n",
       "        text-align: right;\n",
       "    }\n",
       "</style>\n",
       "<table border=\"1\" class=\"dataframe\">\n",
       "  <thead>\n",
       "    <tr style=\"text-align: right;\">\n",
       "      <th></th>\n",
       "      <th>Age</th>\n",
       "      <th>Pregnancies</th>\n",
       "      <th>BMI</th>\n",
       "      <th>Glucose</th>\n",
       "      <th>BloodPressure</th>\n",
       "      <th>HbA1c</th>\n",
       "      <th>LDL</th>\n",
       "      <th>HDL</th>\n",
       "      <th>Triglycerides</th>\n",
       "      <th>WaistCircumference</th>\n",
       "      <th>HipCircumference</th>\n",
       "      <th>WHR</th>\n",
       "      <th>FamilyHistory</th>\n",
       "      <th>DietType</th>\n",
       "      <th>Hypertension</th>\n",
       "      <th>MedicationUse</th>\n",
       "      <th>Outcome</th>\n",
       "    </tr>\n",
       "  </thead>\n",
       "  <tbody>\n",
       "    <tr>\n",
       "      <th>0</th>\n",
       "      <td>69</td>\n",
       "      <td>5</td>\n",
       "      <td>28.39</td>\n",
       "      <td>130.1</td>\n",
       "      <td>77.0</td>\n",
       "      <td>5.4</td>\n",
       "      <td>130.4</td>\n",
       "      <td>44.0</td>\n",
       "      <td>50.0</td>\n",
       "      <td>90.5</td>\n",
       "      <td>107.9</td>\n",
       "      <td>0.84</td>\n",
       "      <td>0</td>\n",
       "      <td>0</td>\n",
       "      <td>0</td>\n",
       "      <td>1</td>\n",
       "      <td>0</td>\n",
       "    </tr>\n",
       "    <tr>\n",
       "      <th>1</th>\n",
       "      <td>32</td>\n",
       "      <td>1</td>\n",
       "      <td>26.49</td>\n",
       "      <td>116.5</td>\n",
       "      <td>72.0</td>\n",
       "      <td>4.5</td>\n",
       "      <td>87.4</td>\n",
       "      <td>54.2</td>\n",
       "      <td>129.9</td>\n",
       "      <td>113.3</td>\n",
       "      <td>81.4</td>\n",
       "      <td>1.39</td>\n",
       "      <td>0</td>\n",
       "      <td>0</td>\n",
       "      <td>0</td>\n",
       "      <td>0</td>\n",
       "      <td>0</td>\n",
       "    </tr>\n",
       "    <tr>\n",
       "      <th>2</th>\n",
       "      <td>89</td>\n",
       "      <td>13</td>\n",
       "      <td>25.34</td>\n",
       "      <td>101.0</td>\n",
       "      <td>82.0</td>\n",
       "      <td>4.9</td>\n",
       "      <td>112.5</td>\n",
       "      <td>56.8</td>\n",
       "      <td>177.6</td>\n",
       "      <td>84.7</td>\n",
       "      <td>107.2</td>\n",
       "      <td>0.79</td>\n",
       "      <td>0</td>\n",
       "      <td>0</td>\n",
       "      <td>0</td>\n",
       "      <td>1</td>\n",
       "      <td>0</td>\n",
       "    </tr>\n",
       "    <tr>\n",
       "      <th>3</th>\n",
       "      <td>78</td>\n",
       "      <td>13</td>\n",
       "      <td>29.91</td>\n",
       "      <td>146.0</td>\n",
       "      <td>104.0</td>\n",
       "      <td>5.7</td>\n",
       "      <td>50.7</td>\n",
       "      <td>39.1</td>\n",
       "      <td>117.0</td>\n",
       "      <td>108.9</td>\n",
       "      <td>110.0</td>\n",
       "      <td>0.99</td>\n",
       "      <td>0</td>\n",
       "      <td>0</td>\n",
       "      <td>0</td>\n",
       "      <td>1</td>\n",
       "      <td>1</td>\n",
       "    </tr>\n",
       "    <tr>\n",
       "      <th>4</th>\n",
       "      <td>38</td>\n",
       "      <td>8</td>\n",
       "      <td>24.56</td>\n",
       "      <td>103.2</td>\n",
       "      <td>74.0</td>\n",
       "      <td>4.7</td>\n",
       "      <td>102.5</td>\n",
       "      <td>29.1</td>\n",
       "      <td>145.9</td>\n",
       "      <td>84.1</td>\n",
       "      <td>92.8</td>\n",
       "      <td>0.91</td>\n",
       "      <td>0</td>\n",
       "      <td>1</td>\n",
       "      <td>0</td>\n",
       "      <td>0</td>\n",
       "      <td>0</td>\n",
       "    </tr>\n",
       "  </tbody>\n",
       "</table>\n",
       "</div>"
      ],
      "text/plain": [
       "   Age  Pregnancies    BMI  Glucose  BloodPressure  HbA1c    LDL   HDL  \\\n",
       "0   69            5  28.39    130.1           77.0    5.4  130.4  44.0   \n",
       "1   32            1  26.49    116.5           72.0    4.5   87.4  54.2   \n",
       "2   89           13  25.34    101.0           82.0    4.9  112.5  56.8   \n",
       "3   78           13  29.91    146.0          104.0    5.7   50.7  39.1   \n",
       "4   38            8  24.56    103.2           74.0    4.7  102.5  29.1   \n",
       "\n",
       "   Triglycerides  WaistCircumference  HipCircumference   WHR  FamilyHistory  \\\n",
       "0           50.0                90.5             107.9  0.84              0   \n",
       "1          129.9               113.3              81.4  1.39              0   \n",
       "2          177.6                84.7             107.2  0.79              0   \n",
       "3          117.0               108.9             110.0  0.99              0   \n",
       "4          145.9                84.1              92.8  0.91              0   \n",
       "\n",
       "   DietType  Hypertension  MedicationUse  Outcome  \n",
       "0         0             0              1        0  \n",
       "1         0             0              0        0  \n",
       "2         0             0              1        0  \n",
       "3         0             0              1        1  \n",
       "4         1             0              0        0  "
      ]
     },
     "execution_count": 2,
     "metadata": {},
     "output_type": "execute_result"
    }
   ],
   "source": [
    "df = pd.read_csv('../data/diabetes.csv')\n",
    "df.head()"
   ]
  },
  {
   "cell_type": "code",
   "execution_count": 4,
   "id": "f4ec7b56",
   "metadata": {},
   "outputs": [
    {
     "name": "stdout",
     "output_type": "stream",
     "text": [
      "Index(['Age', 'Pregnancies', 'BMI', 'Glucose', 'BloodPressure', 'HbA1c', 'LDL',\n",
      "       'HDL', 'Triglycerides', 'WaistCircumference', 'HipCircumference', 'WHR',\n",
      "       'FamilyHistory', 'DietType', 'Hypertension', 'MedicationUse',\n",
      "       'Outcome'],\n",
      "      dtype='object')\n"
     ]
    }
   ],
   "source": [
    "print(df.columns)"
   ]
  },
  {
   "cell_type": "code",
   "execution_count": 5,
   "id": "27bc2ae6",
   "metadata": {},
   "outputs": [
    {
     "data": {
      "text/plain": [
       "Age                   0\n",
       "Pregnancies           0\n",
       "BMI                   0\n",
       "Glucose               0\n",
       "BloodPressure         0\n",
       "HbA1c                 0\n",
       "LDL                   0\n",
       "HDL                   0\n",
       "Triglycerides         0\n",
       "WaistCircumference    0\n",
       "HipCircumference      0\n",
       "WHR                   0\n",
       "FamilyHistory         0\n",
       "DietType              0\n",
       "Hypertension          0\n",
       "MedicationUse         0\n",
       "Outcome               0\n",
       "dtype: int64"
      ]
     },
     "execution_count": 5,
     "metadata": {},
     "output_type": "execute_result"
    }
   ],
   "source": [
    "df.isnull().sum()"
   ]
  },
  {
   "cell_type": "code",
   "execution_count": 6,
   "id": "e0602b27",
   "metadata": {},
   "outputs": [
    {
     "data": {
      "text/plain": [
       "Age                     int64\n",
       "Pregnancies             int64\n",
       "BMI                   float64\n",
       "Glucose               float64\n",
       "BloodPressure         float64\n",
       "HbA1c                 float64\n",
       "LDL                   float64\n",
       "HDL                   float64\n",
       "Triglycerides         float64\n",
       "WaistCircumference    float64\n",
       "HipCircumference      float64\n",
       "WHR                   float64\n",
       "FamilyHistory           int64\n",
       "DietType                int64\n",
       "Hypertension            int64\n",
       "MedicationUse           int64\n",
       "Outcome                 int64\n",
       "dtype: object"
      ]
     },
     "execution_count": 6,
     "metadata": {},
     "output_type": "execute_result"
    }
   ],
   "source": [
    "df.dtypes"
   ]
  },
  {
   "cell_type": "code",
   "execution_count": null,
   "id": "40704d44",
   "metadata": {},
   "outputs": [
    {
     "name": "stdout",
     "output_type": "stream",
     "text": [
      "<class 'pandas.core.frame.DataFrame'>\n",
      "RangeIndex: 9538 entries, 0 to 9537\n",
      "Data columns (total 17 columns):\n",
      " #   Column              Non-Null Count  Dtype  \n",
      "---  ------              --------------  -----  \n",
      " 0   Age                 9538 non-null   int64  \n",
      " 1   Pregnancies         9538 non-null   int64  \n",
      " 2   BMI                 9538 non-null   float64\n",
      " 3   Glucose             9538 non-null   float64\n",
      " 4   BloodPressure       9538 non-null   float64\n",
      " 5   HbA1c               9538 non-null   float64\n",
      " 6   LDL                 9538 non-null   float64\n",
      " 7   HDL                 9538 non-null   float64\n",
      " 8   Triglycerides       9538 non-null   float64\n",
      " 9   WaistCircumference  9538 non-null   float64\n",
      " 10  HipCircumference    9538 non-null   float64\n",
      " 11  WHR                 9538 non-null   float64\n",
      " 12  FamilyHistory       9538 non-null   int64  \n",
      " 13  DietType            9538 non-null   int64  \n",
      " 14  Hypertension        9538 non-null   int64  \n",
      " 15  MedicationUse       9538 non-null   int64  \n",
      " 16  Outcome             9538 non-null   int64  \n",
      "dtypes: float64(10), int64(7)\n",
      "memory usage: 1.2 MB\n"
     ]
    }
   ],
   "source": []
  },
  {
   "cell_type": "code",
   "execution_count": null,
   "id": "c8e014aa",
   "metadata": {},
   "outputs": [],
   "source": []
  }
 ],
 "metadata": {
  "kernelspec": {
   "display_name": "base",
   "language": "python",
   "name": "python3"
  },
  "language_info": {
   "codemirror_mode": {
    "name": "ipython",
    "version": 3
   },
   "file_extension": ".py",
   "mimetype": "text/x-python",
   "name": "python",
   "nbconvert_exporter": "python",
   "pygments_lexer": "ipython3",
   "version": "3.11.5"
  }
 },
 "nbformat": 4,
 "nbformat_minor": 5
}
